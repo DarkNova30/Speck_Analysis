{
  "cells": [
    {
      "cell_type": "code",
      "execution_count": null,
      "id": "2b5bf095",
      "metadata": {
        "id": "2b5bf095"
      },
      "outputs": [],
      "source": [
        "import numpy as np\n",
        "import os\n",
        "from os import urandom"
      ]
    },
    {
      "cell_type": "code",
      "execution_count": null,
      "id": "9e7c60e5",
      "metadata": {
        "id": "9e7c60e5"
      },
      "outputs": [],
      "source": [
        "W=16\n",
        "ALPHA=7\n",
        "BETA=2\n",
        "MASK_VAL = 2 ** W - 1;"
      ]
    },
    {
      "cell_type": "code",
      "execution_count": null,
      "id": "d742da0e",
      "metadata": {
        "id": "d742da0e"
      },
      "outputs": [],
      "source": [
        "def rotate_left(x,k):\n",
        "    return(((x << k) & MASK_VAL) | (x >> (W - k)));\n",
        "\n",
        "def rotate_right(x,k):\n",
        "    return((x >> k) | ((x << (W - k)) & MASK_VAL));\n",
        "\n",
        "def enc_one_round(p, k):\n",
        "    cL, cR = p[0], p[1];\n",
        "    cL = rotate_right(cL, ALPHA);\n",
        "    cL = (cL + cR) & MASK_VAL;\n",
        "    cL = cL ^ k;\n",
        "    cR = rotate_left(cR, BETA);\n",
        "    cR = cR ^ cL;\n",
        "    return(cL,cR);\n",
        "\n",
        "def dec_one_round(c,k):\n",
        "    cL, cR = c[0], c[1];\n",
        "    cR = cR ^ cL;\n",
        "    cR = rotate_right(cR, BETA);\n",
        "    cL = cL ^ k;\n",
        "    cL = (cL - cR) & MASK_VAL;\n",
        "    cL = rotate_left(cL, ALPHA);\n",
        "    return(cL, cR);\n",
        "\n",
        "def expand_key(k, t):\n",
        "    ks = [0 for i in range(t)];\n",
        "    ks[0] = k[len(k)-1];\n",
        "    l = list(reversed(k[:len(k)-1]));\n",
        "    for i in range(t-1):\n",
        "        l[i%3], ks[i+1] = enc_one_round((l[i%3], ks[i]), i);\n",
        "    return(ks);\n"
      ]
    },
    {
      "cell_type": "code",
      "execution_count": null,
      "id": "cfd788c9",
      "metadata": {
        "id": "cfd788c9"
      },
      "outputs": [],
      "source": [
        "def encrypt(p, ks):\n",
        "    x, y = p[0], p[1];\n",
        "    for k in ks:\n",
        "        x,y = enc_one_round((x,y), k);\n",
        "    return(x, y);\n",
        "\n",
        "def decrypt(c, ks):\n",
        "    x, y = c[0], c[1];\n",
        "    for k in reversed(ks):\n",
        "        x, y = dec_one_round((x,y), k);\n",
        "    return(x,y);"
      ]
    },
    {
      "cell_type": "code",
      "execution_count": null,
      "id": "41f6d201",
      "metadata": {
        "scrolled": false,
        "id": "41f6d201",
        "outputId": "2d9440e5-d957-4c29-e70d-043b33d5a65e"
      },
      "outputs": [
        {
          "name": "stdout",
          "output_type": "stream",
          "text": [
            "Testvector verified.\n",
            "original plaintext: 0x6574694c\n",
            "decrpyted plaintext: 0x6574694c\n"
          ]
        }
      ],
      "source": [
        "#main\n",
        "key = (0x1918,0x1110,0x0908,0x0100)\n",
        "pt = (0x6574, 0x694c)\n",
        "ks = expand_key(key, 22)\n",
        "ct = encrypt(pt, ks)\n",
        "\n",
        "if (ct == (0xa868, 0x42f2)):\n",
        "    print(\"Testvector is verified.\")\n",
        "else:\n",
        "    print(\"Testvector is not verified.\")\n",
        "\n",
        "#decrypt\n",
        "pt1=decrypt(ct,ks)\n",
        "pt1=(pt1[0]<<16)|pt[1]\n",
        "print(f\"Original plaintext: {hex(pt[0]<<16|pt[1])}\\nDecrpyted plaintext: {hex(pt1)}\")"
      ]
    },
    {
      "cell_type": "code",
      "execution_count": null,
      "id": "8fe9c233",
      "metadata": {
        "id": "8fe9c233"
      },
      "outputs": [],
      "source": [
        "#takes input array of ciphertext pairs\n",
        "\n",
        "def convert_to_binary(arr):\n",
        "  Y = np.zeros((4 * W,len(arr[0])),dtype=np.uint8);\n",
        "  for i in range(4 * W):\n",
        "    index = i // W;\n",
        "    offset = W - (i % W) - 1;\n",
        "    Y[i] = (arr[index] >> offset) & 1;\n",
        "  Y = Y.transpose();\n",
        "  return(Y);"
      ]
    },
    {
      "cell_type": "code",
      "execution_count": null,
      "id": "38ce17a7",
      "metadata": {
        "id": "38ce17a7"
      },
      "outputs": [],
      "source": [
        "#train data generator\n",
        "np.random.seed(42)\n",
        "def make_train_data(n, nr, diff=(0x0040,0)):\n",
        "  Y = np.frombuffer(urandom(n), dtype=np.uint8); Y = Y & 1;\n",
        "  keys = np.frombuffer(urandom(8*n),dtype=np.uint16).reshape(4,-1);\n",
        "  plain0l = np.frombuffer(urandom(2*n),dtype=np.uint16);\n",
        "  plain0r = np.frombuffer(urandom(2*n),dtype=np.uint16);\n",
        "  plain1l = plain0l ^ diff[0]; plain1r = plain0r ^ diff[1];\n",
        "  num_rand_samples = np.sum(Y==0);\n",
        "  plain1l[Y==0] = np.frombuffer(urandom(2*num_rand_samples),dtype=np.uint16);\n",
        "  plain1r[Y==0] = np.frombuffer(urandom(2*num_rand_samples),dtype=np.uint16);\n",
        "  ks = expand_key(keys, nr);\n",
        "  ctdata0l, ctdata0r = encrypt((plain0l, plain0r), ks);\n",
        "  ctdata1l, ctdata1r = encrypt((plain1l, plain1r), ks);\n",
        "  X = convert_to_binary([ctdata0l, ctdata0r, ctdata1l, ctdata1r]);\n",
        "  return(X,Y);"
      ]
    },
    {
      "cell_type": "code",
      "execution_count": null,
      "id": "b41d5f3b",
      "metadata": {
        "id": "b41d5f3b",
        "outputId": "30707825-984d-42f6-95f5-7733edc3b93f"
      },
      "outputs": [
        {
          "data": {
            "text/plain": [
              "(100, 64)"
            ]
          },
          "execution_count": 21,
          "metadata": {},
          "output_type": "execute_result"
        }
      ],
      "source": [
        "X,Y=make_train_data(100,22)\n",
        "X.shape"
      ]
    },
    {
      "cell_type": "code",
      "execution_count": null,
      "id": "945c3e16",
      "metadata": {
        "id": "945c3e16"
      },
      "outputs": [],
      "source": [
        "def real_differences_data(n, nr, diff=(0x0040,0)):\n",
        "  #generate labels and keys\n",
        "  Y = np.frombuffer(urandom(n), dtype=np.uint8); Y = Y & 1;\n",
        "  keys = np.frombuffer(urandom(8*n),dtype=np.uint16).reshape(4,-1);\n",
        "\n",
        "  #generate plaintexts\n",
        "  plain0l = np.frombuffer(urandom(2*n),dtype=np.uint16);\n",
        "  plain0r = np.frombuffer(urandom(2*n),dtype=np.uint16);\n",
        "\n",
        "  #apply input difference\n",
        "  plain1l = plain0l ^ diff[0]; plain1r = plain0r ^ diff[1];\n",
        "  num_rand_samples = np.sum(Y==0);\n",
        "\n",
        "  #expand keys and encrypt\n",
        "  ks = expand_key(keys, nr);\n",
        "  ctdata0l, ctdata0r = encrypt((plain0l, plain0r), ks);\n",
        "  ctdata1l, ctdata1r = encrypt((plain1l, plain1r), ks);\n",
        "  #generate blinding values\n",
        "  k0 = np.frombuffer(urandom(2*num_rand_samples),dtype=np.uint16);\n",
        "  k1 = np.frombuffer(urandom(2*num_rand_samples),dtype=np.uint16);\n",
        "  #apply blinding to the samples labelled as random (y=0)\n",
        "  ctdata0l[Y==0] = ctdata0l[Y==0] ^ k0; ctdata0r[Y==0] = ctdata0r[Y==0] ^ k1;\n",
        "  ctdata1l[Y==0] = ctdata1l[Y==0] ^ k0; ctdata1r[Y==0] = ctdata1r[Y==0] ^ k1;\n",
        "  #convert to input data for neural networks\n",
        "  X = convert_to_binary([ctdata0l, ctdata0r, ctdata1l, ctdata1r]);\n",
        "  return(X,Y);"
      ]
    },
    {
      "cell_type": "code",
      "execution_count": null,
      "id": "066f6c76",
      "metadata": {
        "id": "066f6c76"
      },
      "outputs": [],
      "source": []
    }
  ],
  "metadata": {
    "kernelspec": {
      "display_name": "Python 3 (ipykernel)",
      "language": "python",
      "name": "python3"
    },
    "language_info": {
      "codemirror_mode": {
        "name": "ipython",
        "version": 3
      },
      "file_extension": ".py",
      "mimetype": "text/x-python",
      "name": "python",
      "nbconvert_exporter": "python",
      "pygments_lexer": "ipython3",
      "version": "3.10.9"
    },
    "colab": {
      "provenance": []
    }
  },
  "nbformat": 4,
  "nbformat_minor": 5
}
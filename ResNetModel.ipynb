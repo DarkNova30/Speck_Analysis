{
  "cells": [
    {
      "cell_type": "code",
      "execution_count": 2,
      "metadata": {
        "colab": {
          "base_uri": "https://localhost:8080/"
        },
        "id": "e2cd5de4",
        "outputId": "98b7e233-7a04-41ea-baf1-8de5e16c4caf"
      },
      "outputs": [
        {
          "output_type": "stream",
          "name": "stdout",
          "text": [
            "Requirement already satisfied: ipynb in /usr/local/lib/python3.10/dist-packages (0.5.1)\n"
          ]
        }
      ],
      "source": [
        "!pip install ipynb\n",
        "import ipynb\n",
        "import numpy as np"
      ],
      "id": "e2cd5de4"
    },
    {
      "cell_type": "code",
      "execution_count": 3,
      "metadata": {
        "id": "00265fac"
      },
      "outputs": [],
      "source": [
        "from ipynb.fs.defs.speck import make_train_data\n",
        "from ipynb.fs.defs.speck import real_differences_data"
      ],
      "id": "00265fac"
    },
    {
      "cell_type": "code",
      "execution_count": 4,
      "metadata": {
        "id": "a1ba1b3c"
      },
      "outputs": [],
      "source": [
        "import keras\n",
        "from keras.models import Model\n",
        "from keras.callbacks import LearningRateScheduler\n",
        "from keras.optimizers import Adam\n",
        "from keras.regularizers import l2\n",
        "from keras.layers import Dense,Conv1D,Input,Reshape,Add,Flatten,Concatenate,Permute,BatchNormalization,Activation"
      ],
      "id": "a1ba1b3c"
    },
    {
      "cell_type": "code",
      "execution_count": 5,
      "metadata": {
        "id": "9e2fab2f"
      },
      "outputs": [],
      "source": [
        "def cyclic_lr(num_epochs, high_lr, low_lr):\n",
        "  res = lambda i: low_lr + ((num_epochs-1) - i % num_epochs)/(num_epochs-1) * (high_lr - low_lr);\n",
        "  return(res)\n",
        "\n",
        "lr = LearningRateScheduler(cyclic_lr(10,0.002, 0.0001))"
      ],
      "id": "9e2fab2f"
    },
    {
      "cell_type": "code",
      "execution_count": 6,
      "metadata": {
        "id": "ec9ec31d"
      },
      "outputs": [],
      "source": [
        "def make_resnet(num_blocks=2, num_filters=32, num_outputs=1, d1=64, d2=64, word_size=16, ks=3,depth=10, reg_param=0.0001, final_activation='sigmoid'):\n",
        "  #Input and preprocessing layers\n",
        "  inp = Input(shape=(num_blocks * word_size * 2,));\n",
        "  rs = Reshape((2 * num_blocks, word_size))(inp);\n",
        "  perm = Permute((2,1))(rs);\n",
        "  #add a single residual layer that will expand the data to num_filters channels\n",
        "  #this is a bit-sliced layer\n",
        "  conv0 = Conv1D(num_filters, kernel_size=1, padding='same', kernel_regularizer=l2(reg_param))(perm);\n",
        "  conv0 = BatchNormalization()(conv0);\n",
        "  conv0 = Activation('relu')(conv0);\n",
        "  #add residual blocks\n",
        "  shortcut = conv0;\n",
        "  for i in range(depth):\n",
        "    conv1 = Conv1D(num_filters, kernel_size=ks, padding='same', kernel_regularizer=l2(reg_param))(shortcut);\n",
        "    conv1 = BatchNormalization()(conv1);\n",
        "    conv1 = Activation('relu')(conv1);\n",
        "    conv2 = Conv1D(num_filters, kernel_size=ks, padding='same',kernel_regularizer=l2(reg_param))(conv1);\n",
        "    conv2 = BatchNormalization()(conv2);\n",
        "    conv2 = Activation('relu')(conv2);\n",
        "    shortcut = Add()([shortcut, conv2]);\n",
        "  #add prediction head\n",
        "  flat1 = Flatten()(shortcut);\n",
        "  dense1 = Dense(d1,kernel_regularizer=l2(reg_param))(flat1);\n",
        "  dense1 = BatchNormalization()(dense1);\n",
        "  dense1 = Activation('relu')(dense1);\n",
        "  dense2 = Dense(d2, kernel_regularizer=l2(reg_param))(dense1);\n",
        "  dense2 = BatchNormalization()(dense2);\n",
        "  dense2 = Activation('relu')(dense2);\n",
        "  out = Dense(num_outputs, activation=final_activation, kernel_regularizer=l2(reg_param))(dense2);\n",
        "  model = Model(inputs=inp, outputs=out);\n",
        "  return(model);"
      ],
      "id": "ec9ec31d"
    },
    {
      "cell_type": "code",
      "execution_count": 11,
      "metadata": {
        "id": "61d1dba6",
        "scrolled": true
      },
      "outputs": [],
      "source": [
        "res=make_resnet()\n",
        "\n",
        "res.compile(optimizer='adam',loss='mse',metrics=['acc'])\n",
        "X,Y=make_train_data(1000000,nr=5)\n",
        "\n",
        "res.fit(X,Y,epochs=20,batch_size=5000,callbacks=lr)"
      ],
      "id": "61d1dba6"
    },
    {
      "cell_type": "code",
      "execution_count": 8,
      "metadata": {
        "id": "3b36a418"
      },
      "outputs": [],
      "source": [
        "x_test,y_test=real_differences_data(100000,nr=5)"
      ],
      "id": "3b36a418"
    },
    {
      "cell_type": "code",
      "execution_count": 12,
      "metadata": {
        "id": "dd19fd1c",
        "scrolled": false
      },
      "outputs": [],
      "source": [
        "z=res.predict(x_test,batch_size=10000).flatten()\n",
        "zbin=(z>0.5)\n",
        "n=len(z)\n",
        "acc=np.sum(zbin==y_test)/n\n",
        "print(acc)"
      ],
      "id": "dd19fd1c"
    },
    {
      "cell_type": "code",
      "execution_count": 13,
      "metadata": {
        "id": "97edc4ac"
      },
      "outputs": [],
      "source": [
        "res.evaluate(x_test,y_test,batch_size=10000)"
      ],
      "id": "97edc4ac"
    },
    {
      "cell_type": "code",
      "execution_count": null,
      "metadata": {
        "id": "3076f770"
      },
      "outputs": [],
      "source": [],
      "id": "3076f770"
    }
  ],
  "metadata": {
    "colab": {
      "provenance": [],
      "gpuType": "T4"
    },
    "kernelspec": {
      "display_name": "Python 3",
      "name": "python3"
    },
    "language_info": {
      "codemirror_mode": {
        "name": "ipython",
        "version": 3
      },
      "file_extension": ".py",
      "mimetype": "text/x-python",
      "name": "python",
      "nbconvert_exporter": "python",
      "pygments_lexer": "ipython3",
      "version": "3.10.9"
    },
    "accelerator": "GPU"
  },
  "nbformat": 4,
  "nbformat_minor": 5
}